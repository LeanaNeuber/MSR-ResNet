{
  "nbformat": 4,
  "nbformat_minor": 0,
  "metadata": {
    "accelerator": "GPU",
    "colab": {
      "name": "ResNet-MSRAction3D",
      "provenance": [],
      "collapsed_sections": []
    },
    "kernelspec": {
      "display_name": "Python 3",
      "name": "python3"
    }
  },
  "cells": [
    {
      "cell_type": "markdown",
      "metadata": {
        "id": "iv36roLuUbqX"
      },
      "source": [
        "# Implementing a ResNet with the MSR Action 3D Dataset"
      ]
    },
    {
      "cell_type": "markdown",
      "metadata": {
        "id": "CodT6558Uhl0"
      },
      "source": [
        "### Imports"
      ]
    },
    {
      "cell_type": "code",
      "metadata": {
        "id": "-lHUEPJxez3D"
      },
      "source": [
        "from google.colab import drive\n",
        "drive.mount('/content/drive')"
      ],
      "execution_count": null,
      "outputs": []
    },
    {
      "cell_type": "code",
      "metadata": {
        "id": "yDj10Rw0Pqmp"
      },
      "source": [
        "# Needed imports\n",
        "import sys\n",
        "import math    \n",
        "import os\n",
        "from os.path import join\n",
        "from os import listdir\n",
        "\n",
        "import numpy as np\n",
        "import cv2\n",
        "from skimage import exposure\n",
        "\n",
        "import keras\n",
        "from keras.layers import Dense, Conv2D, BatchNormalization, Activation, Dropout, GlobalAveragePooling2D, Input, Flatten\n",
        "from keras.callbacks import LearningRateScheduler\n",
        "from keras.optimizers import SGD\n",
        "from keras.models import Model\n",
        "from keras.utils.np_utils import to_categorical\n",
        "from keras.applications import ResNet50"
      ],
      "execution_count": null,
      "outputs": []
    },
    {
      "cell_type": "markdown",
      "metadata": {
        "id": "2FojLpNIUlHt"
      },
      "source": [
        "## Importing and Preprocessing the Data"
      ]
    },
    {
      "cell_type": "code",
      "metadata": {
        "id": "KH2iXJqLPxyK"
      },
      "source": [
        "# 557 sequences\n",
        "# three subsets: AS1, AS2, AS3\n",
        "# In each category: 5 Actors for training, rest for testing\n",
        "# Each data input: (joints, frames, coords)\n",
        "# All coordinates are normalized\n",
        "# Resize to 40x40\n",
        "# Rearrange pixels: P1 --> P2 --> P3 --> P4 --> P5,\n",
        "# so Joints: (8,9,19,11,23) --> (4,5,6,7,21) --> (3,2,20,1,0) --> (16,17,18,19) --> (12,13,14,15)\n",
        "trainSubjects = [1,3,5,7,9]\n",
        "testSubjects = [2,4,6,8,10]\n",
        "groupAS1 = [2,3,5,6,10,13,18,20]\n",
        "groupAS2 = [1,4,7,8,9,11,14,12]\n",
        "groupAS3 = [6,14,15,16,17,18,19,20]"
      ],
      "execution_count": 6,
      "outputs": []
    },
    {
      "cell_type": "code",
      "metadata": {
        "id": "JY99jBzgP5-j"
      },
      "source": [
        "# Pad images with inter nearest interpolation to size 40x40\n",
        "def pad_interpolation(input_pic):\n",
        "  res = cv2.resize(input_pic, dsize=(40, 40), interpolation=cv2.INTER_NEAREST)\n",
        "  return res"
      ],
      "execution_count": 7,
      "outputs": []
    },
    {
      "cell_type": "code",
      "metadata": {
        "id": "2jxHkoRPP73T"
      },
      "source": [
        "# Reorder frames as described in the paper \n",
        "def reorder_frames(action_input):\n",
        "  for f in range(action_input.shape[1]):\n",
        "    frame = action_input[:,f,:] # (20, 3)\n",
        "    idx = [0, 7, 9,11, 1, 8, 10, 12, 19, 2, 3, 6, 4, 13, 15, 17, 5, 14, 16, 18]\n",
        "    reordered_frame = frame[idx]\n",
        "    action_input[:,f,:] = reordered_frame\n",
        "  return action_input"
      ],
      "execution_count": 8,
      "outputs": []
    },
    {
      "cell_type": "code",
      "metadata": {
        "id": "bMWUoTgy8NvF"
      },
      "source": [
        "def clean_data(input):\n",
        "  zero_row = []\n",
        "  for i in range(input.shape[1]):\n",
        "    if (input[:,i] == np.zeros((20,3))).all():\n",
        "      zero_row.append(i)\n",
        "\n",
        "  new_seq = np.delete(input,zero_row,axis=1)\n",
        "  seq_len = new_seq.shape[0]\n",
        "\n",
        "  if np.any(new_seq) == False or seq_len < new_seq.shape[0]:\n",
        "    return None\n",
        "  \n",
        "  return new_seq"
      ],
      "execution_count": 9,
      "outputs": []
    },
    {
      "cell_type": "code",
      "metadata": {
        "id": "aPHTDDiXQBar"
      },
      "source": [
        "# Normalize all (x,y,z) coordinates as described in the paper\n",
        "def normalize(action_input):\n",
        "  for f in range(action_input.shape[1]):\n",
        "    frame = action_input[:,f,:] # (20, 3)\n",
        "    for j in range(len(frame)):\n",
        "      coords = frame[j,:]\n",
        "      normed_coords = normalize_coordinates(coords,frame, action_input)\n",
        "      action_input[j,f,:] = normed_coords\n",
        "  action_input=np.array(action_input, dtype=np.float32)\n",
        "  return action_input"
      ],
      "execution_count": 10,
      "outputs": []
    },
    {
      "cell_type": "code",
      "metadata": {
        "id": "w_lcfCdMP13-"
      },
      "source": [
        "# Normalize coordinates\n",
        "def normalize_coordinates(coords,frame, action):\n",
        "  min_value_x =  frame[:,0].min() \n",
        "  max_value_x = frame[:,0].max() \n",
        "  min_value_y =  frame[:,1].min() \n",
        "  max_value_y = frame[:,1].max() \n",
        "  min_value_z =  frame[:,2].min() \n",
        "  max_value_z = frame[:,2].max()\n",
        "  x_norm = (coords[0] - min_value_x) / (max_value_x - min_value_x)\n",
        "  y_norm = (coords[1] - min_value_y) / (max_value_y - min_value_y)\n",
        "  z_norm = (coords[2] - min_value_z) / (max_value_z - min_value_z)\n",
        "  return np.asarray([x_norm, y_norm, z_norm])"
      ],
      "execution_count": 11,
      "outputs": []
    },
    {
      "cell_type": "code",
      "metadata": {
        "id": "zxKZcIB-QCOc"
      },
      "source": [
        "# Flip images horizontally and vertically\n",
        "def augment(data_x,data_y):\n",
        "  data_new_x = data_x\n",
        "  data_new_y = data_y\n",
        "  for idx, item in enumerate(data_x):\n",
        "    # flip\n",
        "    image_flipr = np.fliplr(item).reshape(1,32,32,3)\n",
        "    image_flipud = np.flipud(item).reshape(1,32,32,3)\n",
        "\n",
        "    data_new_x = np.concatenate((data_new_x, image_flipr))\n",
        "    data_new_x = np.concatenate((data_new_x, image_flipud))\n",
        "\n",
        "    data_new_y = np.concatenate((data_new_y, data_y[idx].reshape(1,8)))\n",
        "    data_new_y = np.concatenate((data_new_y, data_y[idx].reshape(1,8)))\n",
        "    \n",
        "  return data_new_x, data_new_y"
      ],
      "execution_count": 12,
      "outputs": []
    },
    {
      "cell_type": "code",
      "metadata": {
        "id": "sXzAwnUbgPlF"
      },
      "source": [
        "def equalize(action):\n",
        "  action=np.array(action, dtype=np.float32)\n",
        "  return exposure.equalize_adapthist(action, clip_limit=0.03)"
      ],
      "execution_count": 13,
      "outputs": []
    },
    {
      "cell_type": "code",
      "metadata": {
        "id": "s8w_w40JQEO7"
      },
      "source": [
        "def read_and_preprocess_msr_data(path, group):\n",
        "  print(\"Reading in skeleton data...\")\n",
        "\n",
        "  labels, frame_sizes = [], []\n",
        "\n",
        "  group_train_X, group_train_Y = [], []\n",
        "  group_test_X, group_test_Y = [], []\n",
        "\n",
        "  # Get a list of all files the right order\n",
        "  file_names = sorted(listdir(path))\n",
        "  files = [join(path, file) for file in file_names]\n",
        "\n",
        "  for file in files:\n",
        "    # Get the label, the subject and the number of performance from filename\n",
        "    parts = file.split(\"/\").pop().split(\"_\")[:3]\n",
        "    print(parts)\n",
        "    label, subject, e = [int(x[1:].lstrip('0')) for x in parts]\n",
        "\n",
        "    # Get only first three values (for coordinates) and not the confidence score\n",
        "    action = np.loadtxt(file)[:, :3]\n",
        "\n",
        "    # Reshape\n",
        "    frame_size = len(action) // 20\n",
        "    frame_sizes.append(frame_size)\n",
        "    action = np.reshape(action, (20,frame_size, 3),order='F')\n",
        "\n",
        "    # Action cleaning\n",
        "    action = clean_data(action)\n",
        "    if action is None:\n",
        "      continue\n",
        "\n",
        "    # Reorder\n",
        "    action = reorder_frames(action)\n",
        "\n",
        "    # Resize and pad images\n",
        "    action = pad_interpolation(action)\n",
        "\n",
        "    # Normalize\n",
        "    action = normalize(action)\n",
        "\n",
        "    # Equalize\n",
        "    action = equalize(action)\n",
        "    \n",
        "    # Blur\n",
        "    #action = cv2.GaussianBlur(action, (3, 3), 0)\n",
        "\n",
        "    if subject in trainSubjects:\n",
        "      if label in group:\n",
        "        # We crop 8 times\n",
        "        for i in range(0,8):\n",
        "          cropped_action = action[i:i+32, i:i+32]\n",
        "          group_train_X.append(cropped_action)\n",
        "          group_train_Y.append(label)\n",
        "\n",
        "    elif subject in testSubjects:\n",
        "      if label in group:\n",
        "        # We crop 8 times\n",
        "        for i in range(0,8):\n",
        "          cropped_action = action[i:i+32, i:i+32]\n",
        "          group_test_X.append(cropped_action)\n",
        "          group_test_Y.append(label)\n",
        "\n",
        "  print('done')\n",
        "\n",
        "  # Normalize values to have less classes\n",
        "  uniques = list(set(group_train_Y))\n",
        "  for idx, item in enumerate(group_train_Y):\n",
        "    group_train_Y[idx] = uniques.index(item)\n",
        "\n",
        "  uniques = list(set(group_test_Y))\n",
        "  for idx, item in enumerate(group_test_Y):\n",
        "    group_test_Y[idx] = uniques.index(item)\n",
        "\n",
        "  # One-hot encode Y\n",
        "  group_train_Y = to_categorical(group_train_Y)\n",
        "  group_test_Y = to_categorical(group_test_Y)\n",
        "\n",
        "  # Make matrix out of X --> (#samples, 32, 32, 3)\n",
        "  group_train_X = np.stack(group_train_X,axis=0)\n",
        "  group_test_X = np.stack(group_test_X,axis=0)\n",
        "  \n",
        "  # Augment data to achieve better results\n",
        "  group_train_X, group_train_Y = augment(group_train_X, group_train_Y)\n",
        "  group_test_X, group_test_Y = augment(group_test_X, group_test_Y)\n",
        "\n",
        "  return group_train_X, group_train_Y, group_test_X, group_test_Y"
      ],
      "execution_count": 14,
      "outputs": []
    },
    {
      "cell_type": "code",
      "metadata": {
        "id": "Xc2yw-VkQK5s"
      },
      "source": [
        "x_train, y_train, x_test, y_test = read_and_preprocess_msr_data('/content/drive/MyDrive/folder/Skeleton20Joints_unrar/', groupAS3)"
      ],
      "execution_count": null,
      "outputs": []
    },
    {
      "cell_type": "code",
      "metadata": {
        "colab": {
          "base_uri": "https://localhost:8080/"
        },
        "id": "Iwi9FNExVMOo",
        "outputId": "02bd90c4-9640-488e-ec20-6f8fbf7a4b2b"
      },
      "source": [
        "print(f'x_train shape: {x_train.shape}, y_train shape: {y_train.shape}')\n",
        "print(f'x_test shape: {x_test.shape}, y_test shape: {y_test.shape}')"
      ],
      "execution_count": 21,
      "outputs": [
        {
          "output_type": "stream",
          "text": [
            "x_train shape: (2736, 32, 32, 3), y_train shape: (2736, 8)\n",
            "x_test shape: (2688, 32, 32, 3), y_test shape: (2688, 8)\n"
          ],
          "name": "stdout"
        }
      ]
    },
    {
      "cell_type": "code",
      "metadata": {
        "colab": {
          "base_uri": "https://localhost:8080/",
          "height": 283
        },
        "id": "BUKGuYyDVN7D",
        "outputId": "4000ff06-2520-4293-fe25-93cc5acbd5e9"
      },
      "source": [
        "imshow((x_test[0]))"
      ],
      "execution_count": 22,
      "outputs": [
        {
          "output_type": "execute_result",
          "data": {
            "text/plain": [
              "<matplotlib.image.AxesImage at 0x7fb3c8246ba8>"
            ]
          },
          "metadata": {
            "tags": []
          },
          "execution_count": 22
        },
        {
          "output_type": "display_data",
          "data": {
            "image/png": "[encoded data removed]",
            "text/plain": [
              "<Figure size 432x288 with 1 Axes>"
            ]
          },
          "metadata": {
            "tags": [],
            "needs_background": "light"
          }
        }
      ]
    },
    {
      "cell_type": "markdown",
      "metadata": {
        "id": "vCl3pms8kwVc"
      },
      "source": [
        "### ResNet Keras\n"
      ]
    },
    {
      "cell_type": "code",
      "metadata": {
        "colab": {
          "base_uri": "https://localhost:8080/"
        },
        "id": "IPUOc6YYk96b",
        "outputId": "029d6184-38b4-411a-8447-498e8a461225"
      },
      "source": [
        "shape, classes = (32,32, 3), 8\n",
        "\n",
        "x = keras.layers.Input(shape)\n",
        "\n",
        "model = tf.keras.applications.ResNet50(input_tensor=x, classes = 8, weights = None)\n",
        "\n",
        "model.compile(optimizer='adam', loss=\"categorical_crossentropy\", metrics=[\"accuracy\"])\n",
        "#model.summary()\n",
        "for i in range(10):\n",
        "  model.fit(x_train, y_train, epochs=100, batch_size=32, verbose=0)\n",
        "  _, accuracy = model.evaluate(x_test, y_test, verbose=1)\n",
        "  print(f'Score: {accuracy*100.0}')\n"
      ],
      "execution_count": null,
      "outputs": [
        {
          "output_type": "stream",
          "text": [
            "84/84 [==============================] - 1s 9ms/step - loss: 1.2550 - accuracy: 0.8415\n",
            "Score: 84.15178656578064\n",
            "84/84 [==============================] - 1s 9ms/step - loss: 1.2611 - accuracy: 0.8032\n",
            "Score: 80.31994104385376\n",
            "84/84 [==============================] - 1s 9ms/step - loss: 1.3928 - accuracy: 0.8583\n",
            "Score: 85.82589030265808\n",
            "84/84 [==============================] - 1s 9ms/step - loss: 1.9073 - accuracy: 0.7347\n",
            "Score: 73.4747052192688\n",
            "84/84 [==============================] - 1s 9ms/step - loss: 2.4941 - accuracy: 0.7816\n",
            "Score: 78.1622052192688\n",
            "84/84 [==============================] - 1s 9ms/step - loss: 1.1857 - accuracy: 0.8251\n",
            "Score: 82.51488208770752\n",
            "84/84 [==============================] - 1s 9ms/step - loss: 1.0578 - accuracy: 0.8839\n",
            "Score: 88.39285969734192\n",
            "84/84 [==============================] - 1s 9ms/step - loss: 1.6102 - accuracy: 0.8493\n",
            "Score: 84.93303656578064\n",
            "84/84 [==============================] - 1s 9ms/step - loss: 2.0130 - accuracy: 0.8579\n",
            "Score: 85.78869104385376\n"
          ],
          "name": "stdout"
        }
      ]
    },
    {
      "cell_type": "markdown",
      "metadata": {
        "id": "RexFyD4pM1ef"
      },
      "source": [
        "## ResNet with pretrained weights "
      ]
    },
    {
      "cell_type": "code",
      "metadata": {
        "id": "617bnD9nKg_r"
      },
      "source": [
        "shape, classes = (32,32, 3), 8\n",
        "\n",
        "x = keras.layers.Input(shape)\n",
        "\n",
        "pretrained_model = tf.keras.applications.ResNet50(input_tensor=x,weights='imagenet', include_top=False)\n",
        "\n",
        "\n",
        "x = pretrained_model.output\n",
        "x = GlobalAveragePooling2D()(x)\n",
        "x = Dropout(0.7)(x)\n",
        "predictions = Dense(classes, activation= 'softmax')(x)\n",
        "model = Model(inputs = pretrained_model.input, outputs = predictions)\n",
        "\n",
        "\n",
        "model.compile(optimizer='adam', loss=\"categorical_crossentropy\", metrics=[\"accuracy\"])\n",
        "\n",
        "\n",
        "for i in range(10):\n",
        "  model.fit(x_train, y_train, epochs=100, batch_size=32, verbose=0)\n",
        "  _, accuracy = model.evaluate(x_test, y_test, verbose=1)\n",
        "  print(f'Score: {accuracy*100.0}')\n"
      ],
      "execution_count": null,
      "outputs": []
    },
    {
      "cell_type": "markdown",
      "metadata": {
        "id": "3FIbeme_UW3E"
      },
      "source": [
        "## ResNet Implementation"
      ]
    },
    {
      "cell_type": "code",
      "metadata": {
        "id": "SL6TfOSAdr5p"
      },
      "source": [
        "def lr_schedule(epoch):\n",
        "  lr = 0.01\n",
        "  if epoch > 74:\n",
        "    lr = 0.001\n",
        "  if epoch > 149:\n",
        "    lr = 0.0001\n",
        "  print('Learning rate: ', lr)\n",
        "  return lr"
      ],
      "execution_count": null,
      "outputs": []
    },
    {
      "cell_type": "code",
      "metadata": {
        "id": "lUuK3nx1QQYk"
      },
      "source": [
        "def resnet_layer(inputs, num_filters=16, kernel_size=3, strides=1, dropout=False, first = False):\n",
        "  \n",
        "  conv = Conv2D(num_filters, kernel_size=kernel_size, strides=strides, padding='same')\n",
        "\n",
        "  x = inputs\n",
        "\n",
        "  if first:\n",
        "    x = conv(x)\n",
        "    x = BatchNormalization()(x)\n",
        "    x = Activation('relu')(x)\n",
        "\n",
        "  else:\n",
        "    x = BatchNormalization()(x)\n",
        "    x = Activation('relu')(x)\n",
        "    if dropout:\n",
        "      x = Dropout(rate=0.25)(x)\n",
        "    x = conv(x)\n",
        "\n",
        "  return x"
      ],
      "execution_count": null,
      "outputs": []
    },
    {
      "cell_type": "code",
      "metadata": {
        "id": "0oZR9YHqQZfB"
      },
      "source": [
        "def resnet20(num_classes=8):\n",
        "    \n",
        "    num_filters = 16\n",
        "    num_res_blocks = 3\n",
        "    shape = (32,32, 3)\n",
        "    \n",
        "\n",
        "    inputs = Input(shape)\n",
        "    x = resnet_layer(inputs=inputs, first=True)\n",
        "\n",
        "    # Instantiate the stack of residual units\n",
        "    for stack in range(3): \n",
        "        for res_block in range(num_res_blocks): # 3x 16, 3x 32, 3x 64\n",
        "            strides = 1\n",
        "            if stack > 0 and res_block == 0:  # first layer but not first stack\n",
        "                strides = 2  # downsample\n",
        "            y = resnet_layer(inputs=x,num_filters=num_filters,strides=strides)\n",
        "            y = resnet_layer(inputs=y,num_filters=num_filters,dropout=True)\n",
        "            if stack > 0 and res_block == 0:  # first layer but not first stack\n",
        "                # linear projection residual shortcut connection to match\n",
        "                # changed dims\n",
        "                x = resnet_layer(inputs=x,num_filters=num_filters,kernel_size=1,strides=strides)\n",
        "            x = keras.layers.add([x, y])\n",
        "        num_filters *= 2\n",
        "\n",
        "    # Add classifier on top.\n",
        "    x = GlobalAveragePooling2D()(x)\n",
        "    y = Flatten()(x)\n",
        "    outputs = Dense(num_classes, activation='softmax')(y)\n",
        "\n",
        "    # Instantiate model\n",
        "    model = Model(inputs=inputs, outputs=outputs)\n",
        "    return model"
      ],
      "execution_count": null,
      "outputs": []
    },
    {
      "cell_type": "code",
      "metadata": {
        "id": "f6WSflZSetc0"
      },
      "source": [
        "lr_scheduler = LearningRateScheduler(lr_schedule)"
      ],
      "execution_count": null,
      "outputs": []
    },
    {
      "cell_type": "code",
      "metadata": {
        "id": "KuWvQoweQcAL"
      },
      "source": [
        "model = resnet20(8)\n",
        "model.compile(loss='categorical_crossentropy',optimizer=SGD(lr=lr_schedule(0),momentum=0.9, decay=0.0001),metrics=['accuracy'])\n",
        "#model.compile(loss='categorical_crossentropy',optimizer='adam',metrics=['accuracy'])"
      ],
      "execution_count": null,
      "outputs": []
    },
    {
      "cell_type": "code",
      "metadata": {
        "id": "JGc59FU6QmkH"
      },
      "source": [
        "#model.summary()"
      ],
      "execution_count": null,
      "outputs": []
    },
    {
      "cell_type": "code",
      "metadata": {
        "id": "utEGvxp_QhEO"
      },
      "source": [
        "model.fit(x_train, y_train,batch_size=batch_size,epochs=epochs,validation_data=(x_test, y_test), callbacks=[lr_scheduler])"
      ],
      "execution_count": null,
      "outputs": []
    },
    {
      "cell_type": "code",
      "metadata": {
        "id": "XBqBQjRGnUdd"
      },
      "source": [
        "base_model = ResNet50(weights = 'imagenet', include_top = False, input_shape = (224,224,3))\n",
        "\n",
        "\n",
        "head = base_model.output\n",
        "head = Flatten()(head)\n",
        "head = Dropout(0.5)(head)\n",
        "head = Dense(4096,activation='relu')(head)\n",
        "head = Dropout(0.5)(head)\n",
        "head = Dense(2048,activation='relu')(head)\n",
        "head = Dropout(0.5)(head)\n",
        "head = Dense(60,activation='softmax')(head)\n",
        "model = Model(inputs = base_model.input, outputs = head)\n",
        "\n",
        "#VGG16, VGG19"
      ],
      "execution_count": null,
      "outputs": []
    }
  ]
}